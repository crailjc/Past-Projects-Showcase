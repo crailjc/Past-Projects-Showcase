{
 "cells": [
  {
   "cell_type": "code",
   "execution_count": 1,
   "metadata": {},
   "outputs": [],
   "source": [
    "import numpy as np\n",
    "import matplotlib.pylab as plt\n",
    "import seaborn as sns \n",
    "from fcmpy.simulator.transfer import Sigmoid, Bivalent, Trivalent, HyperbolicTangent\n",
    "from fcmpy import FcmSimulator, FcmIntervention \n",
    "import json\n",
    "import csv\n",
    "import os"
   ]
  },
  {
   "cell_type": "code",
   "execution_count": 4,
   "metadata": {},
   "outputs": [],
   "source": [
    "# local imports\n",
    "from run import run_simulation\n",
    "from linearization import encode_diff, encode_state, input_format, diff_input_format"
   ]
  },
  {
   "cell_type": "code",
   "execution_count": 6,
   "metadata": {},
   "outputs": [
    {
     "name": "stdout",
     "output_type": "stream",
     "text": [
      "The values converged in the 7 state (e <= 0.001)\n",
      "All simulation results written out to training-input.csv\n"
     ]
    }
   ],
   "source": [
    "fp = open(\"sample_states.json\")\n",
    "states = json.load(fp)\n",
    "# preparing the file\n",
    "outfile = open('training-input.csv', 'w')\n",
    "writer = csv.writer(outfile)\n",
    "writer.writerow(('Prompt', 'Completion'))\n",
    "\n",
    "def prepare(result):\n",
    "    init_state, diff = result['init_state'], result['diff']\n",
    "    initial = input_format(encode_state(init_state))\n",
    "    difference = diff_input_format(encode_diff(diff))\n",
    "    # completion = input(\"Write down a completion for above simulation:\\nDo not write anything if you want to skip\\n\").strip()\n",
    "    writer.writerow((f\"Initial: {initial}\\nDifference: {difference}\",) )\n",
    "\n",
    "for init_state in states:\n",
    "    f, l = run_simulation(\n",
    "        init_state\n",
    "    ).values()\n",
    "\n",
    "    first, last = f.to_dict('records')[0], l.to_dict('records')[0]\n",
    "    # not keeping concepts that do not change\n",
    "    diff_kv = {key: last[key]-first[key] for key in first if last[key] != first[key]}\n",
    "    # sort concept values so that largest decrease appear first, largest increase appear last (primary concepts for dicussion)\n",
    "    # along with central concept of FCM (which is obesity in our case)\n",
    "    diff = sorted(diff_kv.items(), key=lambda x: x[1])\n",
    "\n",
    "    prepare(dict(\n",
    "        init_state=init_state,\n",
    "        diff=diff,\n",
    "    ))\n",
    "\n",
    "outfile.close()\n",
    "print(\"All simulation results written out to\", outfile.name)\n"
   ]
  },
  {
   "cell_type": "code",
   "execution_count": 3,
   "metadata": {},
   "outputs": [
    {
     "name": "stdout",
     "output_type": "stream",
     "text": [
      "The values converged in the 7 state (e <= 0.001)\n"
     ]
    },
    {
     "name": "stderr",
     "output_type": "stream",
     "text": [
      "/Users/anish/opt/anaconda3/lib/python3.9/site-packages/fcmpy/simulator/simulator.py:64: UserWarning: When passing an initial state with a weight matrix type                 numpy.ndarray make sure that the order of the keys in the dictionary                 with the initial states matches the order of the column of the numpy.ndarray!\n",
      "  warnings.warn(\"When passing an initial state with a weight matrix type \\\n"
     ]
    }
   ],
   "source": [
    "init_state = {\n",
    "    'Age': 0.6, 'Antidepressants': 1.0, 'Depression': 0.8, 'Belief in personal responsibility': 0.8, 'Exercise': 0.5, 'Fatness perceived as negative': 0.7,\n",
    "    'Food intake': 0.4, 'Income': 0.8, 'Knowledge': 0.7, 'Obesity': 0.2, 'Physical health': 0.75, 'Stress': 0.9, 'Weight discrimination': 0.2\n",
    "}\n",
    "f, l = run_simulation(\n",
    "    init_state\n",
    ").values()"
   ]
  },
  {
   "cell_type": "code",
   "execution_count": 4,
   "metadata": {},
   "outputs": [
    {
     "data": {
      "text/html": [
       "<div>\n",
       "<style scoped>\n",
       "    .dataframe tbody tr th:only-of-type {\n",
       "        vertical-align: middle;\n",
       "    }\n",
       "\n",
       "    .dataframe tbody tr th {\n",
       "        vertical-align: top;\n",
       "    }\n",
       "\n",
       "    .dataframe thead th {\n",
       "        text-align: right;\n",
       "    }\n",
       "</style>\n",
       "<table border=\"1\" class=\"dataframe\">\n",
       "  <thead>\n",
       "    <tr style=\"text-align: right;\">\n",
       "      <th></th>\n",
       "      <th>Age</th>\n",
       "      <th>Antidepressants</th>\n",
       "      <th>Depression</th>\n",
       "      <th>Belief in personal responsibility</th>\n",
       "      <th>Exercise</th>\n",
       "      <th>Fatness perceived as negative</th>\n",
       "      <th>Food intake</th>\n",
       "      <th>Income</th>\n",
       "      <th>Knowledge</th>\n",
       "      <th>Obesity</th>\n",
       "      <th>Physical health</th>\n",
       "      <th>Stress</th>\n",
       "      <th>Weight discrimination</th>\n",
       "    </tr>\n",
       "  </thead>\n",
       "  <tbody>\n",
       "    <tr>\n",
       "      <th>0</th>\n",
       "      <td>0.6</td>\n",
       "      <td>1.0</td>\n",
       "      <td>0.8</td>\n",
       "      <td>0.8</td>\n",
       "      <td>0.5</td>\n",
       "      <td>0.7</td>\n",
       "      <td>0.4</td>\n",
       "      <td>0.8</td>\n",
       "      <td>0.7</td>\n",
       "      <td>0.2</td>\n",
       "      <td>0.75</td>\n",
       "      <td>0.9</td>\n",
       "      <td>0.2</td>\n",
       "    </tr>\n",
       "  </tbody>\n",
       "</table>\n",
       "</div>"
      ],
      "text/plain": [
       "   Age  Antidepressants  Depression  Belief in personal responsibility  \\\n",
       "0  0.6              1.0         0.8                                0.8   \n",
       "\n",
       "   Exercise  Fatness perceived as negative  Food intake  Income  Knowledge  \\\n",
       "0       0.5                            0.7          0.4     0.8        0.7   \n",
       "\n",
       "   Obesity  Physical health  Stress  Weight discrimination  \n",
       "0      0.2             0.75     0.9                    0.2  "
      ]
     },
     "execution_count": 4,
     "metadata": {},
     "output_type": "execute_result"
    }
   ],
   "source": [
    "f"
   ]
  },
  {
   "cell_type": "code",
   "execution_count": 5,
   "metadata": {},
   "outputs": [
    {
     "data": {
      "text/html": [
       "<div>\n",
       "<style scoped>\n",
       "    .dataframe tbody tr th:only-of-type {\n",
       "        vertical-align: middle;\n",
       "    }\n",
       "\n",
       "    .dataframe tbody tr th {\n",
       "        vertical-align: top;\n",
       "    }\n",
       "\n",
       "    .dataframe thead th {\n",
       "        text-align: right;\n",
       "    }\n",
       "</style>\n",
       "<table border=\"1\" class=\"dataframe\">\n",
       "  <thead>\n",
       "    <tr style=\"text-align: right;\">\n",
       "      <th></th>\n",
       "      <th>Age</th>\n",
       "      <th>Antidepressants</th>\n",
       "      <th>Depression</th>\n",
       "      <th>Belief in personal responsibility</th>\n",
       "      <th>Exercise</th>\n",
       "      <th>Fatness perceived as negative</th>\n",
       "      <th>Food intake</th>\n",
       "      <th>Income</th>\n",
       "      <th>Knowledge</th>\n",
       "      <th>Obesity</th>\n",
       "      <th>Physical health</th>\n",
       "      <th>Stress</th>\n",
       "      <th>Weight discrimination</th>\n",
       "    </tr>\n",
       "  </thead>\n",
       "  <tbody>\n",
       "    <tr>\n",
       "      <th>6</th>\n",
       "      <td>0.6</td>\n",
       "      <td>0.763335</td>\n",
       "      <td>0.8</td>\n",
       "      <td>0.688211</td>\n",
       "      <td>0.787649</td>\n",
       "      <td>0.757695</td>\n",
       "      <td>0.80251</td>\n",
       "      <td>0.8</td>\n",
       "      <td>0.7</td>\n",
       "      <td>0.766019</td>\n",
       "      <td>0.4222</td>\n",
       "      <td>0.9</td>\n",
       "      <td>0.919228</td>\n",
       "    </tr>\n",
       "  </tbody>\n",
       "</table>\n",
       "</div>"
      ],
      "text/plain": [
       "   Age  Antidepressants  Depression  Belief in personal responsibility  \\\n",
       "6  0.6         0.763335         0.8                           0.688211   \n",
       "\n",
       "   Exercise  Fatness perceived as negative  Food intake  Income  Knowledge  \\\n",
       "6  0.787649                       0.757695      0.80251     0.8        0.7   \n",
       "\n",
       "    Obesity  Physical health  Stress  Weight discrimination  \n",
       "6  0.766019           0.4222     0.9               0.919228  "
      ]
     },
     "execution_count": 5,
     "metadata": {},
     "output_type": "execute_result"
    }
   ],
   "source": [
    "l"
   ]
  },
  {
   "cell_type": "markdown",
   "metadata": {},
   "source": [
    "### NOTE\n",
    "Checking the difference between the last and first records as we are only interested in those. Mind it the difference is sorted, so that it is better to ONLY explain peculiar concepts (highest decreases/increases or very minor changes)"
   ]
  },
  {
   "cell_type": "code",
   "execution_count": 6,
   "metadata": {},
   "outputs": [
    {
     "name": "stdout",
     "output_type": "stream",
     "text": [
      "Difference [('Physical health', -0.3277996028071101), ('Antidepressants', -0.23666502335745), ('Belief in personal responsibility', -0.11178931129657799), ('Fatness perceived as negative', 0.05769529884131608), ('Exercise', 0.28764949582051835), ('Food intake', 0.4025102826623449), ('Obesity', 0.56601885890069), ('Weight discrimination', 0.719227966320684)]\n"
     ]
    }
   ],
   "source": [
    "first, last = f.to_dict('records')[0], l.to_dict('records')[0]\n",
    "diff_kv = {key: last[key]-first[key] for key in first if last[key] != first[key]}\n",
    "# not keeping indifferent keys\n",
    "diff = sorted(diff_kv.items(), key=lambda x: x[1])\n",
    "print('Difference', diff)\n"
   ]
  },
  {
   "cell_type": "markdown",
   "metadata": {},
   "source": [
    "### Preview the state and difference of the LAST result"
   ]
  },
  {
   "cell_type": "code",
   "execution_count": 7,
   "metadata": {},
   "outputs": [
    {
     "name": "stdout",
     "output_type": "stream",
     "text": [
      "{'Age': 0.6, 'Antidepressants': 1.0, 'Depression': 0.8, 'Belief in personal responsibility': 0.8, 'Exercise': 0.5, 'Fatness perceived as negative': 0.7, 'Food intake': 0.4, 'Income': 0.8, 'Knowledge': 0.7, 'Obesity': 0.2, 'Physical health': 0.75, 'Stress': 0.9, 'Weight discrimination': 0.2}\n",
      "---------- Difference ----------\n",
      "[('Physical health', -0.3277996028071101), ('Antidepressants', -0.23666502335745), ('Belief in personal responsibility', -0.11178931129657799), ('Fatness perceived as negative', 0.05769529884131608), ('Exercise', 0.28764949582051835), ('Food intake', 0.4025102826623449), ('Obesity', 0.56601885890069), ('Weight discrimination', 0.719227966320684)]\n",
      "[('Physical health', 'decrease', 'small'), ('Antidepressants', 'decrease', 'small'), ('Belief in personal responsibility', 'decrease', 'very low'), ('Fatness perceived as negative', 'increase', 'negligible'), ('Exercise', 'increase', 'small'), ('Food intake', 'grow', 'average'), ('Obesity', 'increase', 'average'), ('Weight discrimination', 'grow', 'elevated')]\n",
      "\n",
      "Part of the training data, this is written out to the file\n",
      "\n",
      "Initial: <S> Age <V> adult <E><S> Antidepressants <V> extremely high <E><S> Depression <V> high <E><S> Belief in personal responsibility <V> elevated <E><S> Exercise <V> average <E><S> Fatness perceived as negative <V> elevated <E><S> Food intake <V> low <E><S> Income <V> high <E><S> Knowledge <V> high <E><S> Obesity <V> negligible <E><S> Physical health <V> elevated <E><S> Stress <V> extremely high <E><S> Weight discrimination <V> very small <E>\n",
      "Difference: <S> Physical health <C> decrease <V> small <E><S> Antidepressants <C> reduce <V> small <E><S> Belief in personal responsibility <C> decrease <V> noticeably low <E><S> Fatness perceived as negative <C> grow <V> very low <E><S> Exercise <C> increase <V> small <E><S> Food intake <C> grow <V> average <E><S> Obesity <C> increase <V> average <E><S> Weight discrimination <C> grow <V> high <E>\n"
     ]
    }
   ],
   "source": [
    "from linearization import encode_diff, encode_state, input_format, diff_input_format\n",
    "\n",
    "print(init_state)\n",
    "print('-'*10, 'Difference', '-'*10)\n",
    "print(diff)\n",
    "print(encode_diff(diff))\n",
    "print('\\nPart of the training data, this is written out to the file\\n')\n",
    "print('Initial: ' + input_format(encode_state(init_state)))\n",
    "print('Difference: ' + diff_input_format(encode_diff(diff)))\n"
   ]
  },
  {
   "cell_type": "markdown",
   "metadata": {},
   "source": [
    "### Linearized Representation\n",
    "#### Two different entities are there: Initial and Difference\n",
    "\n",
    "```\n",
    "Initial: <S> Age <V> seniors <E><S> Antidepressants <V> very low <E><S> Depression <V> low <E><S> Belief in personal responsibility <V> average <E><S> Exercise <V> very high <E><S> Fatness perceived as negative <V> average <E><S> Food intake <V> noticeably high <E><S> Income <V> very low <E><S> Knowledge <V> high <E><S> Obesity <V> very high <E><S> Physical health <V> average <E><S> Stress <V> average <E><S> Weight discrimination <V> extremely high <E>\n",
    "Difference: <S> Exercise <C> decrease <V> very small <E><S> Obesity <C> reduce <V> noticeably low <E><S> Food intake <C> decrease <V> very low <E><S> Weight discrimination <C> grow <V> very small <E><S> Physical health <C> grow <V> very low <E><S> Belief in personal responsibility <C> grow <V> very low <E><S> Fatness perceived as negative <C> grow <V> low <E><S> Antidepressants <C> increase <V> elevated <E>\n",
    "```"
   ]
  },
  {
   "cell_type": "markdown",
   "metadata": {},
   "source": [
    "### Print the states and their differences for the simulations performed above"
   ]
  },
  {
   "cell_type": "code",
   "execution_count": 8,
   "metadata": {},
   "outputs": [
    {
     "name": "stdout",
     "output_type": "stream",
     "text": [
      "All simulation results written out to  training-input.csv\n"
     ]
    }
   ],
   "source": [
    "import csv\n",
    "import os\n",
    "\n",
    "outfile = open('training-input.csv', 'w')\n",
    "writer = csv.writer(outfile)\n",
    "writer.writerow(('Prompt', 'Completion'))\n",
    "\n",
    "def prepare(result):\n",
    "    init_state, diff = result['init_state'], result['diff']\n",
    "    initial = input_format(encode_state(init_state))\n",
    "    difference = diff_input_format(encode_diff(diff))\n",
    "    # completion = input(\"Write down a completion for above simulation:\\nDo not write anything if you want to skip\\n\").strip()\n",
    "    writer.writerow((f\"Initial: {initial}\\nDifference: {difference}\",) )\n",
    "\n",
    "prepare(dict(\n",
    "    init_state=init_state,\n",
    "    diff=diff,\n",
    "))\n",
    "\n",
    "outfile.close()\n",
    "print(\"All simulation results written out to\", outfile.name)"
   ]
  },
  {
   "cell_type": "code",
   "execution_count": 10,
   "metadata": {},
   "outputs": [],
   "source": [
    "'''\n",
    "part = res.loc[:, ~res.columns.isin(['Age', 'Income'])]\n",
    "part.plot(kind='line', colormap='Greens')\n",
    "'''"
   ]
  }
 ],
 "metadata": {
  "kernelspec": {
   "display_name": "Python 3.9.12 ('base')",
   "language": "python",
   "name": "python3"
  },
  "language_info": {
   "codemirror_mode": {
    "name": "ipython",
    "version": 3
   },
   "file_extension": ".py",
   "mimetype": "text/x-python",
   "name": "python",
   "nbconvert_exporter": "python",
   "pygments_lexer": "ipython3",
   "version": "3.9.12"
  },
  "orig_nbformat": 4,
  "vscode": {
   "interpreter": {
    "hash": "7a3d7f66fbaca4abac02535223f402d4a07d344b0354bf93ed3a83474fa2ced2"
   }
  }
 },
 "nbformat": 4,
 "nbformat_minor": 2
}

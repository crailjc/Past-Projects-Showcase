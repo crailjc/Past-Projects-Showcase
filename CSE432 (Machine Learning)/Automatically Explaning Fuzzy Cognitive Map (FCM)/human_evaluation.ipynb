{
 "cells": [
  {
   "cell_type": "code",
   "execution_count": 10,
   "metadata": {},
   "outputs": [
    {
     "name": "stdout",
     "output_type": "stream",
     "text": [
      "Average faithfulness=2.85\n",
      "Average fluency=3.8\n",
      "Average coverage=4.9\n",
      "P45 is 0.6333333333333333\n"
     ]
    }
   ],
   "source": [
    "faithfulness = [3.5, 1, 5, 5, 5, 2, 3, 1, 2, 1,]\n",
    "fluency = [5, 4, 3, 2, 5, 4, 4.5, 3.5, 3, 4,]\n",
    "coverage = [5, 5, 5, 5, 5, 5, 5, 5, 4, 5,]\n",
    "\n",
    "print(f'Average faithfulness={sum(faithfulness)/len(faithfulness)}')\n",
    "print(f'Average fluency={sum(fluency)/len(fluency)}')\n",
    "print(f'Average coverage={sum(coverage)/len(coverage)}')\n",
    "\n",
    "p45 = sum(\n",
    "    [1 for x in faithfulness if x >= 4]\n",
    "     + [1 for x in fluency if x >= 4]\n",
    "     + [1 for x in coverage if x >= 4]\n",
    ")\n",
    "p45 = p45 / (3*len(faithfulness))\n",
    "print(f'P45 is {p45}')"
   ]
  }
 ],
 "metadata": {
  "kernelspec": {
   "display_name": "Python 3.10.6 64-bit",
   "language": "python",
   "name": "python3"
  },
  "language_info": {
   "codemirror_mode": {
    "name": "ipython",
    "version": 3
   },
   "file_extension": ".py",
   "mimetype": "text/x-python",
   "name": "python",
   "nbconvert_exporter": "python",
   "pygments_lexer": "ipython3",
   "version": "3.10.6"
  },
  "orig_nbformat": 4,
  "vscode": {
   "interpreter": {
    "hash": "aee8b7b246df8f9039afb4144a1f6fd8d2ca17a180786b69acc140d282b71a49"
   }
  }
 },
 "nbformat": 4,
 "nbformat_minor": 2
}

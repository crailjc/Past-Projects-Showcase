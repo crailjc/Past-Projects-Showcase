{
 "cells": [
  {
   "cell_type": "markdown",
   "metadata": {},
   "source": [
    "## Finetuning\n",
    "\n",
    "Using OpenAI's GPT3, we finetune the model to fit into our training data.\n",
    "\n",
    "For this we can directly use openai's API as follows\n",
    "\n",
    "```bash\n",
    "$ openai api fine_tunes.create -t <train_file> -m davinci\n",
    "```\n",
    "\n",
    "Such that our training `jsonl` file will contain dataset in the following format:\n",
    "\n",
    "```json\n",
    "{\"prompt\": \"<prompt text>\", \"completion\": \"<ideal generated text>\"}\n",
    "{\"prompt\": \"<prompt text>\", \"completion\": \"<ideal generated text>\"}\n",
    "{\"prompt\": \"<prompt text>\", \"completion\": \"<ideal generated text>\"} \n",
    "...\n",
    "```\n",
    "\n",
    "For our case the _prompt_ argument will look like, \n",
    "```\n",
    "\"Generate a narrative based off of the following:\\n\\nInitial: <S>Age<V>young<E><S>Antidepressants<V>very small<E><S>Depression<V>very low<E><S>Belief in personal responsibility<V>noticeably high<E><S>Exercise<V>extremely high<E><S>Fatness perceived as negative<V>high<E><S>Food intake<V>very low<E><S>Income<V>average<E><S>Knowledge<V>elevated<E><S>Obesity<V>negligible<E><S>Physical health<V>extremely high<E><S>Stress<V>little<E><S>Weight discrimination<V>negligible<E>\\n\\nDifference: <S>Belief in personal responsibility<C>reduce<V>average<E><S>Physical health<C>reduce<V>low<E><S>Exercise<C>decrease<V>small<E><S>Fatness perceived as negative<C>reduce<V>very low<E><S>Food intake<C>grow<V>average<E><S>Obesity<C>increase<V>high<E><S>Antidepressants<C>grow<V>elevated<E><S>Weight discrimination<C>grow<V>elevated<E>\\n\\nNarrative: \",\n",
    "```\n",
    "\n",
    "On the other hand, _completion_ argument will look like,\n",
    "```\n",
    "\"We considered a young person with high levels of physical health and exercise, and a very high belief in personal responsibility. He has high levels of stress and is on little antidepressants. He has high income and knowledge. The simulation predicts that his physical health will reduce slightly, and his exercise will decrease by a low amount. However, his food intake will increase significantly, and his obesity and antidepressant use will increase significantly. His belief in personal responsibility will also decrease slightly.\"\n",
    "```"
   ]
  },
  {
   "cell_type": "markdown",
   "metadata": {},
   "source": [
    "### Post Finetuning\n",
    "\n",
    "After finetuning, we will receive our custom model __identifier__, which can be used for further generation..."
   ]
  },
  {
   "cell_type": "markdown",
   "metadata": {},
   "source": [
    "## Generation\n",
    "\n",
    "And again using the same finetuned model, we will be generating our text."
   ]
  },
  {
   "cell_type": "code",
   "execution_count": null,
   "metadata": {},
   "outputs": [],
   "source": [
    "import os\n",
    "import openai\n",
    "\n",
    "openai.api_key = os.getenv('OPENAI_API_KEY')\n",
    "\n",
    "response = openai.Completion.create(\n",
    "  model=\"FINE_TUNED_MODEL\",  # our custom finetuned model Id\n",
    "  prompt=\"Generate a narrative based off of the following:\\n\\nInitial: <S>Age<V>young<E><S>Antidepressants<V>very small<E><S>Depression<V>very low<E><S>Belief in personal responsibility<V>noticeably high<E><S>Exercise<V>extremely high<E><S>Fatness perceived as negative<V>high<E><S>Food intake<V>very low<E><S>Income<V>average<E><S>Knowledge<V>elevated<E><S>Obesity<V>negligible<E><S>Physical health<V>extremely high<E><S>Stress<V>little<E><S>Weight discrimination<V>negligible<E>\\n\\nDifference: <S>Belief in personal responsibility<C>reduce<V>average<E><S>Physical health<C>reduce<V>low<E><S>Exercise<C>decrease<V>small<E><S>Fatness perceived as negative<C>reduce<V>very low<E><S>Food intake<C>grow<V>average<E><S>Obesity<C>increase<V>high<E><S>Antidepressants<C>grow<V>elevated<E><S>Weight discrimination<C>grow<V>elevated<E>\\n\\nNarrative: \",\n",
    "  # few of the parameters that we can tune\n",
    "  temperature=0.5,\n",
    "  max_tokens=60,\n",
    "  top_p=1,\n",
    "  frequency_penalty=0,\n",
    "  presence_penalty=0\n",
    ")"
   ]
  }
 ],
 "metadata": {
  "kernelspec": {
   "display_name": "Python 3.9.12 ('base')",
   "language": "python",
   "name": "python3"
  },
  "language_info": {
   "codemirror_mode": {
    "name": "ipython",
    "version": 3
   },
   "file_extension": ".py",
   "mimetype": "text/x-python",
   "name": "python",
   "nbconvert_exporter": "python",
   "pygments_lexer": "ipython3",
   "version": "3.9.12"
  },
  "orig_nbformat": 4,
  "vscode": {
   "interpreter": {
    "hash": "7a3d7f66fbaca4abac02535223f402d4a07d344b0354bf93ed3a83474fa2ced2"
   }
  }
 },
 "nbformat": 4,
 "nbformat_minor": 2
}

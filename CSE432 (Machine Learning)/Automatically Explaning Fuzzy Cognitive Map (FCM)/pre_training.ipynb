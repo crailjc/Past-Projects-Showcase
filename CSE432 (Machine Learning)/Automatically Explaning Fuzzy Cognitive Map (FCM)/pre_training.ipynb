{
 "cells": [
  {
   "cell_type": "code",
   "execution_count": 1,
   "metadata": {},
   "outputs": [],
   "source": [
    "import csv\n",
    "from permutation import rnd_permute\n",
    "\n",
    "INIT_KW = 'Initial: '\n",
    "DIFF_KW = 'Difference: '"
   ]
  },
  {
   "cell_type": "code",
   "execution_count": 16,
   "metadata": {},
   "outputs": [
    {
     "name": "stdout",
     "output_type": "stream",
     "text": [
      "All training inputs written into annotated/original_perm6.jsonl.\n"
     ]
    }
   ],
   "source": [
    "newFile = open('annotated/original_perm6.jsonl', 'w')\n",
    "\n",
    "with open('annotated.csv') as csvfile:\n",
    "    reader = csv.reader(csvfile)\n",
    "    next(reader)\n",
    "    for row in reader:\n",
    "        prompt, completion = row\n",
    "        try:\n",
    "            initial, difference = prompt.strip().split('\\n')\n",
    "\n",
    "            # remove the initial and difference keywords from the annotations\n",
    "            initial = initial.split(INIT_KW)[1]\n",
    "            difference = difference.split(DIFF_KW)[1]\n",
    "            # get permutations of the arguments\n",
    "            perms = rnd_permute(initial, difference, size_lim=6)\n",
    "\n",
    "            # write the original into the file\n",
    "            string = f'{{\"prompt\": \"{prompt}\", \"completion\": \" {completion}<End>\"}}' \n",
    "            string = string.replace(\"\\n\",\"\\\\n\")\n",
    "            newFile.write(string+'\\n')\n",
    "\n",
    "            # write down the permutations as well\n",
    "            for init, diff in perms:\n",
    "                prompt = INIT_KW + init + '\\n' + DIFF_KW + diff\n",
    "                # completion remains same, we are simply permuting the prompt\n",
    "                string = f'{{\"prompt\": \"{prompt}\", \"completion\": \" {completion}<End>\"}}' \n",
    "                string = string.replace(\"\\n\",\"\\\\n\")\n",
    "                newFile.write(string+'\\n')\n",
    "        except Exception as e:\n",
    "            print(e)\n",
    "            raise e\n",
    "\n",
    "newFile.close()\n",
    "print(f\"All training inputs written into {newFile.name}.\")"
   ]
  }
 ],
 "metadata": {
  "kernelspec": {
   "display_name": "Python 3.10.6 64-bit",
   "language": "python",
   "name": "python3"
  },
  "language_info": {
   "codemirror_mode": {
    "name": "ipython",
    "version": 3
   },
   "file_extension": ".py",
   "mimetype": "text/x-python",
   "name": "python",
   "nbconvert_exporter": "python",
   "pygments_lexer": "ipython3",
   "version": "3.10.6"
  },
  "orig_nbformat": 4,
  "vscode": {
   "interpreter": {
    "hash": "aee8b7b246df8f9039afb4144a1f6fd8d2ca17a180786b69acc140d282b71a49"
   }
  }
 },
 "nbformat": 4,
 "nbformat_minor": 2
}
